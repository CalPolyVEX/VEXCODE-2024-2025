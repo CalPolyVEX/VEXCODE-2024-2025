{
 "cells": [
  {
   "cell_type": "code",
   "execution_count": 5,
   "id": "fd7ed065",
   "metadata": {},
   "outputs": [
    {
     "name": "stdout",
     "output_type": "stream",
     "text": [
      "2.008662356412027\n"
     ]
    }
   ],
   "source": [
    "data = [\n",
    "96.14,\n",
    "95.97,\n",
    "95.65,\n",
    "94.96,\n",
    "95.21\n",
    "]\n",
    "sum = 0\n",
    "for e in data:\n",
    "    sum += e\n",
    "print((96.0/(sum/len(data))) * 2.0)"
   ]
  }
 ],
 "metadata": {
  "kernelspec": {
   "display_name": "Python 3",
   "language": "python",
   "name": "python3"
  },
  "language_info": {
   "codemirror_mode": {
    "name": "ipython",
    "version": 3
   },
   "file_extension": ".py",
   "mimetype": "text/x-python",
   "name": "python",
   "nbconvert_exporter": "python",
   "pygments_lexer": "ipython3",
   "version": "3.12.5"
  }
 },
 "nbformat": 4,
 "nbformat_minor": 5
}
