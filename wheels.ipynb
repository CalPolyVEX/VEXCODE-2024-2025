{
 "cells": [
  {
   "cell_type": "code",
   "execution_count": 8,
   "id": "fd7ed065",
   "metadata": {},
   "outputs": [
    {
     "name": "stdout",
     "output_type": "stream",
     "text": [
      "wheel dia : 2.0063045333426217\n",
      "avg dist = 95.69833333333334\n"
     ]
    }
   ],
   "source": [
    "#data = [95.27, 94.53, 95.16, 94.84, 94.10, 94.23, 95.27] #green\n",
    "#data = [96.35, 95.83, 95.71, 94.82, 96.01, 96.70, 95.65, 94.70] #gold vert\n",
    "data = [95.53, 95.70, 95.38, 95.97, 95.74, 95.87] #gold hori\n",
    "\"\"\"\n",
    "data = [\n",
    "96.14,\n",
    "95.97,\n",
    "95.65,\n",
    "94.96,\n",
    "95.21\n",
    "] # green\n",
    "\"\"\"\n",
    "sum = 0\n",
    "for e in data:\n",
    "    sum += e\n",
    "print(f\"wheel dia : {(96.0/(sum/len(data))) * 2.0}\")\n",
    "print(f\"avg dist = {sum/len(data)}\")"
   ]
  }
 ],
 "metadata": {
  "kernelspec": {
   "display_name": "Python 3",
   "language": "python",
   "name": "python3"
  },
  "language_info": {
   "codemirror_mode": {
    "name": "ipython",
    "version": 3
   },
   "file_extension": ".py",
   "mimetype": "text/x-python",
   "name": "python",
   "nbconvert_exporter": "python",
   "pygments_lexer": "ipython3",
   "version": "3.12.5"
  }
 },
 "nbformat": 4,
 "nbformat_minor": 5
}
